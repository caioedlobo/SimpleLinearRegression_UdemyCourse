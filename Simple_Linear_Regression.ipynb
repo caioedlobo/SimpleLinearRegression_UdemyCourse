{
 "cells": [
  {
   "cell_type": "code",
   "execution_count": 4,
   "metadata": {},
   "outputs": [],
   "source": [
    "import pandas as pd"
   ]
  },
  {
   "cell_type": "code",
   "execution_count": 6,
   "metadata": {},
   "outputs": [],
   "source": [
    "dataset = pd.read_csv('C:\\\\Users\\\\Caio\\\\Downloads\\\\Study_Hours.csv')"
   ]
  },
  {
   "cell_type": "code",
   "execution_count": 8,
   "metadata": {},
   "outputs": [
    {
     "data": {
      "text/html": [
       "<div>\n",
       "<style scoped>\n",
       "    .dataframe tbody tr th:only-of-type {\n",
       "        vertical-align: middle;\n",
       "    }\n",
       "\n",
       "    .dataframe tbody tr th {\n",
       "        vertical-align: top;\n",
       "    }\n",
       "\n",
       "    .dataframe thead th {\n",
       "        text-align: right;\n",
       "    }\n",
       "</style>\n",
       "<table border=\"1\" class=\"dataframe\">\n",
       "  <thead>\n",
       "    <tr style=\"text-align: right;\">\n",
       "      <th></th>\n",
       "      <th>Hours of Study</th>\n",
       "      <th>Exam Score</th>\n",
       "    </tr>\n",
       "  </thead>\n",
       "  <tbody>\n",
       "    <tr>\n",
       "      <th>21</th>\n",
       "      <td>5.6</td>\n",
       "      <td>560</td>\n",
       "    </tr>\n",
       "    <tr>\n",
       "      <th>22</th>\n",
       "      <td>5.0</td>\n",
       "      <td>550</td>\n",
       "    </tr>\n",
       "    <tr>\n",
       "      <th>23</th>\n",
       "      <td>4.2</td>\n",
       "      <td>420</td>\n",
       "    </tr>\n",
       "    <tr>\n",
       "      <th>24</th>\n",
       "      <td>4.5</td>\n",
       "      <td>510</td>\n",
       "    </tr>\n",
       "    <tr>\n",
       "      <th>25</th>\n",
       "      <td>5.2</td>\n",
       "      <td>490</td>\n",
       "    </tr>\n",
       "    <tr>\n",
       "      <th>26</th>\n",
       "      <td>3.1</td>\n",
       "      <td>470</td>\n",
       "    </tr>\n",
       "    <tr>\n",
       "      <th>27</th>\n",
       "      <td>3.4</td>\n",
       "      <td>500</td>\n",
       "    </tr>\n",
       "    <tr>\n",
       "      <th>28</th>\n",
       "      <td>5.1</td>\n",
       "      <td>520</td>\n",
       "    </tr>\n",
       "    <tr>\n",
       "      <th>29</th>\n",
       "      <td>4.4</td>\n",
       "      <td>425</td>\n",
       "    </tr>\n",
       "  </tbody>\n",
       "</table>\n",
       "</div>"
      ],
      "text/plain": [
       "    Hours of Study  Exam Score\n",
       "21             5.6         560\n",
       "22             5.0         550\n",
       "23             4.2         420\n",
       "24             4.5         510\n",
       "25             5.2         490\n",
       "26             3.1         470\n",
       "27             3.4         500\n",
       "28             5.1         520\n",
       "29             4.4         425"
      ]
     },
     "execution_count": 8,
     "metadata": {},
     "output_type": "execute_result"
    }
   ],
   "source": [
    "dataset.tail(9)"
   ]
  },
  {
   "cell_type": "code",
   "execution_count": 9,
   "metadata": {},
   "outputs": [],
   "source": [
    "X = dataset.iloc[:, :-1].values\n",
    "y = dataset.iloc[:, 1].values"
   ]
  },
  {
   "cell_type": "code",
   "execution_count": 10,
   "metadata": {},
   "outputs": [
    {
     "data": {
      "text/plain": [
       "(array([[1.2],\n",
       "        [1.7],\n",
       "        [4. ],\n",
       "        [6. ],\n",
       "        [5.5],\n",
       "        [6.3],\n",
       "        [6.6],\n",
       "        [3.2],\n",
       "        [6.5],\n",
       "        [4.5],\n",
       "        [5.4],\n",
       "        [6.8],\n",
       "        [6. ],\n",
       "        [3.8],\n",
       "        [2.5],\n",
       "        [5.2],\n",
       "        [5.5],\n",
       "        [5.6],\n",
       "        [6. ],\n",
       "        [1.3],\n",
       "        [1.4],\n",
       "        [5.6],\n",
       "        [5. ],\n",
       "        [4.2],\n",
       "        [4.5],\n",
       "        [5.2],\n",
       "        [3.1],\n",
       "        [3.4],\n",
       "        [5.1],\n",
       "        [4.4]]),\n",
       " array([300, 470, 500, 600, 500, 700, 850, 480, 810, 490, 570, 720, 620,\n",
       "        400, 410, 470, 680, 700, 720, 350, 320, 560, 550, 420, 510, 490,\n",
       "        470, 500, 520, 425], dtype=int64))"
      ]
     },
     "execution_count": 10,
     "metadata": {},
     "output_type": "execute_result"
    }
   ],
   "source": [
    "X,y"
   ]
  },
  {
   "cell_type": "code",
   "execution_count": 11,
   "metadata": {},
   "outputs": [],
   "source": [
    "from sklearn.model_selection import train_test_split\n",
    "X_train,X_test,y_train,y_test = train_test_split(X,y,test_size=1/3,random_state=0)"
   ]
  },
  {
   "cell_type": "code",
   "execution_count": 12,
   "metadata": {},
   "outputs": [
    {
     "data": {
      "text/plain": [
       "(array([[6.3],\n",
       "        [5.5],\n",
       "        [6.5],\n",
       "        [2.5],\n",
       "        [4.2],\n",
       "        [1.4],\n",
       "        [1.7],\n",
       "        [4.4],\n",
       "        [6.6],\n",
       "        [5.5],\n",
       "        [6. ],\n",
       "        [1.3],\n",
       "        [4.5],\n",
       "        [3.2],\n",
       "        [5.2],\n",
       "        [6. ],\n",
       "        [1.2],\n",
       "        [5.6],\n",
       "        [5.2],\n",
       "        [6. ]]),\n",
       " array([700, 680, 810, 410, 420, 320, 470, 425, 850, 500, 720, 350, 490,\n",
       "        480, 490, 600, 300, 560, 470, 620], dtype=int64))"
      ]
     },
     "execution_count": 12,
     "metadata": {},
     "output_type": "execute_result"
    }
   ],
   "source": [
    "X_train, y_train"
   ]
  },
  {
   "cell_type": "code",
   "execution_count": 13,
   "metadata": {},
   "outputs": [
    {
     "data": {
      "text/plain": [
       "(array([[4. ],\n",
       "        [5.1],\n",
       "        [3.8],\n",
       "        [5.4],\n",
       "        [3.1],\n",
       "        [4.5],\n",
       "        [3.4],\n",
       "        [6.8],\n",
       "        [5.6],\n",
       "        [5. ]]),\n",
       " array([500, 520, 400, 570, 470, 510, 500, 720, 700, 550], dtype=int64))"
      ]
     },
     "execution_count": 13,
     "metadata": {},
     "output_type": "execute_result"
    }
   ],
   "source": [
    "X_test, y_test"
   ]
  },
  {
   "cell_type": "code",
   "execution_count": 14,
   "metadata": {},
   "outputs": [],
   "source": [
    "from sklearn.linear_model import LinearRegression "
   ]
  },
  {
   "cell_type": "code",
   "execution_count": 15,
   "metadata": {},
   "outputs": [],
   "source": [
    "s_reg = LinearRegression()"
   ]
  },
  {
   "cell_type": "code",
   "execution_count": 16,
   "metadata": {},
   "outputs": [
    {
     "data": {
      "text/plain": [
       "LinearRegression()"
      ]
     },
     "execution_count": 16,
     "metadata": {},
     "output_type": "execute_result"
    }
   ],
   "source": [
    "s_reg.fit(X_train, y_train)"
   ]
  },
  {
   "cell_type": "code",
   "execution_count": 17,
   "metadata": {},
   "outputs": [],
   "source": [
    "y_pred = s_reg.predict(X_test)"
   ]
  },
  {
   "cell_type": "code",
   "execution_count": 18,
   "metadata": {},
   "outputs": [
    {
     "data": {
      "text/plain": [
       "(array([502, 579, 488, 600, 440, 537, 460, 697, 613, 572]),\n",
       " array([500, 520, 400, 570, 470, 510, 500, 720, 700, 550], dtype=int64))"
      ]
     },
     "execution_count": 18,
     "metadata": {},
     "output_type": "execute_result"
    }
   ],
   "source": [
    "y_pred.astype(int), y_test"
   ]
  },
  {
   "cell_type": "code",
   "execution_count": 19,
   "metadata": {},
   "outputs": [],
   "source": [
    "import matplotlib.pyplot as plt"
   ]
  },
  {
   "cell_type": "code",
   "execution_count": 20,
   "metadata": {},
   "outputs": [
    {
     "data": {
      "image/png": "[encoded data removed]",
      "text/plain": [
       "<Figure size 432x288 with 1 Axes>"
      ]
     },
     "metadata": {
      "needs_background": "light"
     },
     "output_type": "display_data"
    }
   ],
   "source": [
    "plt.scatter(X_train,y_train, color='red')\n",
    "plt.plot(X_train,s_reg.predict(X_train), color = 'blue')\n",
    "plt.title('Study_Hours vs Exam_Score (Training set)')\n",
    "plt.xlabel('Study_Hours')\n",
    "plt.ylabel('Exam_Score')\n",
    "plt.show()"
   ]
  },
  {
   "cell_type": "code",
   "execution_count": 21,
   "metadata": {},
   "outputs": [
    {
     "data": {
      "image/png": "[encoded data removed]",
      "text/plain": [
       "<Figure size 432x288 with 1 Axes>"
      ]
     },
     "metadata": {
      "needs_background": "light"
     },
     "output_type": "display_data"
    }
   ],
   "source": [
    "plt.scatter(X_test,y_test, color='red')\n",
    "plt.plot(X_train,s_reg.predict(X_train), color = 'blue')\n",
    "plt.title('Study_Hours vs Exam_Score (Test set)')\n",
    "plt.xlabel('Study_Hours')\n",
    "plt.ylabel('Exam_Score')\n",
    "plt.show()"
   ]
  },
  {
   "cell_type": "code",
   "execution_count": null,
   "metadata": {},
   "outputs": [],
   "source": []
  }
 ],
 "metadata": {
  "kernelspec": {
   "display_name": "Python 3",
   "language": "python",
   "name": "python3"
  },
  "language_info": {
   "codemirror_mode": {
    "name": "ipython",
    "version": 3
   },
   "file_extension": ".py",
   "mimetype": "text/x-python",
   "name": "python",
   "nbconvert_exporter": "python",
   "pygments_lexer": "ipython3",
   "version": "3.8.8"
  }
 },
 "nbformat": 4,
 "nbformat_minor": 4
}
